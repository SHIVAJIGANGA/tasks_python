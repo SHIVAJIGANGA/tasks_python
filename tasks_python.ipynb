{
 "cells": [
  {
   "cell_type": "code",
   "execution_count": 3,
   "metadata": {},
   "outputs": [
    {
     "name": "stdout",
     "output_type": "stream",
     "text": [
      "enter the user name sivaji\n",
      "enter the user age 23\n",
      "you will turn 100 in this year  2095\n"
     ]
    }
   ],
   "source": [
    "1   #Create a program that asks the user to enter their name and their age.\n",
    "   #Print out a message addressed to them,\n",
    "   #that tells them the year that they will turn 100 years old.\n",
    "\n",
    "\n",
    "\n",
    "import datetime\n",
    "\n",
    "username = input('enter the user name ')\n",
    "userage = int(input('enter the user age '))\n",
    "\n",
    "now = datetime.datetime.now()\n",
    "age = int(now.year-userage)+100\n",
    "print(\"you will turn 100 in this year \",age)"
   ]
  },
  {
   "cell_type": "code",
   "execution_count": 5,
   "metadata": {},
   "outputs": [
    {
     "name": "stdout",
     "output_type": "stream",
     "text": [
      "Twinkle, twinkle, little star,\n",
      "  How I wonder what you are!\n",
      "      Up above the world so high,\n",
      "      Like a diamond in the sky.\n",
      "   Twinkle, twinkle, little star,\n",
      "     How I wonder what you are\n"
     ]
    }
   ],
   "source": [
    "3  #Write a Python program to print the following string in a specific format (see the output). Go to the editor\n",
    "   #Sample String : \"Twinkle, twinkle, little star, How I wonder what you are! Up above the world so high, Like a diamond in the sky. Twinkle, twinkle, little star, How I wonder what you are\"\n",
    "    \n",
    "    \n",
    "print(\"Twinkle, twinkle, little star,\\n  How I wonder what you are!\\n      Up above the world so high,\\n      Like a diamond in the sky.\\n   Twinkle, twinkle, little star,\\n     How I wonder what you are\")\n",
    "    \n",
    "    "
   ]
  },
  {
   "cell_type": "code",
   "execution_count": null,
   "metadata": {},
   "outputs": [],
   "source": [
    "4  #Odd or Even\n",
    "   #Ask the user for a number. Depending on whether the number is even or odd, print out an appropriate message to the user."
   ]
  },
  {
   "cell_type": "code",
   "execution_count": 14,
   "metadata": {},
   "outputs": [
    {
     "name": "stdout",
     "output_type": "stream",
     "text": [
      "enter the number23\n",
      "given number is odd 23\n"
     ]
    }
   ],
   "source": [
    "num = int(input('enter the number'))\n",
    "if(num%2)==0:\n",
    "    print(\"given number is even \",num)\n",
    "else:\n",
    "    print(\"given number is odd\",num)"
   ]
  },
  {
   "cell_type": "code",
   "execution_count": null,
   "metadata": {},
   "outputs": [],
   "source": [
    "5  #Write a Python program which accepts the radius of a circle from the user and compute the area\n",
    "  #Sample Output :\n",
    "  #r = 1.1\n",
    "  #Area = 3.8013271108436504"
   ]
  },
  {
   "cell_type": "code",
   "execution_count": 17,
   "metadata": {},
   "outputs": [
    {
     "name": "stdout",
     "output_type": "stream",
     "text": [
      "enter the area value 3\n",
      "value of area  28.274333882308138\n"
     ]
    }
   ],
   "source": [
    "import math\n",
    "\n",
    "\n",
    "r = float(input('enter the area value '))\n",
    "area = (math.pi*r**2)\n",
    "print('value of area ',area)"
   ]
  },
  {
   "cell_type": "code",
   "execution_count": null,
   "metadata": {},
   "outputs": [],
   "source": [
    "6  #Write a Python program which accepts a sequence of comma-separated numbers from user and generate a list and a tuple with those numbers\n",
    "   #Sample data : 3, 5, 7, 23\n",
    "   #List : ['3', ' 5', ' 7', ' 23']\n",
    "   #Tuple : ('3', ' 5', ' 7', ' 23')"
   ]
  },
  {
   "cell_type": "code",
   "execution_count": 2,
   "metadata": {},
   "outputs": [
    {
     "data": {
      "text/plain": [
       "20"
      ]
     },
     "execution_count": 2,
     "metadata": {},
     "output_type": "execute_result"
    }
   ],
   "source": [
    "4*5"
   ]
  },
  {
   "cell_type": "code",
   "execution_count": 2,
   "metadata": {},
   "outputs": [
    {
     "name": "stdout",
     "output_type": "stream",
     "text": [
      "enter the values 3,5,7,23\n",
      "the list  ['3', '5', '7', '23']\n",
      "the tuple  ('3', '5', '7', '23')\n"
     ]
    }
   ],
   "source": [
    "values = input(\"enter the values \")\n",
    "lst = values.split(\",\")\n",
    "tpl = tuple(lst)\n",
    "print(\"the list \",lst)\n",
    "print(\"the tuple \",tpl)"
   ]
  },
  {
   "cell_type": "code",
   "execution_count": null,
   "metadata": {},
   "outputs": [],
   "source": [
    "2  #Write a Python program to get the Python version you are using.\n"
   ]
  },
  {
   "cell_type": "code",
   "execution_count": 2,
   "metadata": {},
   "outputs": [
    {
     "name": "stdout",
     "output_type": "stream",
     "text": [
      "3.7.0 (default, Jun 28 2018, 07:39:16) \n",
      "[Clang 4.0.1 (tags/RELEASE_401/final)]\n"
     ]
    }
   ],
   "source": [
    "import sys\n",
    "print(sys.version)"
   ]
  },
  {
   "cell_type": "code",
   "execution_count": null,
   "metadata": {},
   "outputs": [],
   "source": [
    "7   ##Write a Python program to accept a filename from the user and print the extension of that."
   ]
  },
  {
   "cell_type": "code",
   "execution_count": 1,
   "metadata": {},
   "outputs": [
    {
     "name": "stdout",
     "output_type": "stream",
     "text": [
      "enter the file name abc.java\n",
      "java\n"
     ]
    }
   ],
   "source": [
    "file = input('enter the file name ')\n",
    "\n",
    "file_split = file.split(\".\");\n",
    "\n",
    "print(file_split[len(file_split)-1])"
   ]
  },
  {
   "cell_type": "code",
   "execution_count": 3,
   "metadata": {},
   "outputs": [],
   "source": [
    "8  #Write a Python program to display the first and last values from the following list. Go to the editor\n",
    "   # color_list = [\"Red\",\"Green\",\"White\" ,\"Black\"]"
   ]
  },
  {
   "cell_type": "code",
   "execution_count": 20,
   "metadata": {},
   "outputs": [
    {
     "name": "stdout",
     "output_type": "stream",
     "text": [
      "red\n",
      "black\n"
     ]
    }
   ],
   "source": [
    "color_list = [\"red\",\"green\",\"white\",\"black\"]\n",
    "print(color_list[0])\n",
    "print(color_list[-1])"
   ]
  },
  {
   "cell_type": "code",
   "execution_count": null,
   "metadata": {},
   "outputs": [],
   "source": [
    "9  #Write a Python program that accepts an integer (n) and computes the value of n+nn+nnn.\n",
    "   # Sample value of n is 5\n",
    "   # Expected Result : 615"
   ]
  },
  {
   "cell_type": "code",
   "execution_count": 2,
   "metadata": {},
   "outputs": [
    {
     "name": "stdout",
     "output_type": "stream",
     "text": [
      "enter the n number 5\n",
      "the value of result is  615\n"
     ]
    }
   ],
   "source": [
    "n = int(input('enter the n number '))\n",
    "num = str(n)\n",
    "n1 = num+num\n",
    "n2 = num+num+num\n",
    "result = n+int(n1)+int(n2)\n",
    "print(\"the value of result is \", result)"
   ]
  },
  {
   "cell_type": "code",
   "execution_count": null,
   "metadata": {},
   "outputs": [],
   "source": [
    "10  #Write a Python program to print the calendar of a given month and year.\n",
    "    # Note : Use 'calendar' module.'"
   ]
  },
  {
   "cell_type": "code",
   "execution_count": 50,
   "metadata": {},
   "outputs": [
    {
     "name": "stdout",
     "output_type": "stream",
     "text": [
      "enter the year 2018\n",
      "enter the month12\n",
      "   December 2018\n",
      "Mo Tu We Th Fr Sa Su\n",
      "                1  2\n",
      " 3  4  5  6  7  8  9\n",
      "10 11 12 13 14 15 16\n",
      "17 18 19 20 21 22 23\n",
      "24 25 26 27 28 29 30\n",
      "31\n",
      "\n"
     ]
    }
   ],
   "source": [
    " import calendar\n",
    "\n",
    "year = int(input('enter the year '))\n",
    "month = int(input('enter the month'))\n",
    "\n",
    "print(calendar.month(year,month))"
   ]
  },
  {
   "cell_type": "code",
   "execution_count": null,
   "metadata": {},
   "outputs": [],
   "source": [
    "11   # Take a list, say for example this one:\n",
    "     #   a = [1, 1, 2, 3, 5, 8, 13, 21, 34, 55, 89]\n",
    "    # and write a program that prints out all the elements of the list that are less than 5.\n"
   ]
  },
  {
   "cell_type": "code",
   "execution_count": 8,
   "metadata": {},
   "outputs": [
    {
     "name": "stdout",
     "output_type": "stream",
     "text": [
      "[1, 1, 2, 3, 5]\n"
     ]
    }
   ],
   "source": [
    "a = [1,1,2,3,5,8,13,21,34,55,89]\n",
    "b = []\n",
    "for i in a:\n",
    "    if i<=5:\n",
    "        b.append(i)\n",
    "        \n",
    "print(b)\n"
   ]
  },
  {
   "cell_type": "code",
   "execution_count": null,
   "metadata": {},
   "outputs": [],
   "source": [
    "12  #Write a Python program to calculate the sum of three given numbers, if the values are equal then return thrice of their sum."
   ]
  },
  {
   "cell_type": "code",
   "execution_count": 48,
   "metadata": {},
   "outputs": [
    {
     "name": "stdout",
     "output_type": "stream",
     "text": [
      "enter the values 3\n",
      "enter the values 3\n",
      "enter the values 3\n",
      "27\n"
     ]
    }
   ],
   "source": [
    "x = int(input('enter the values '))\n",
    "y = int(input('enter the values '))\n",
    "z = int(input('enter the values '))\n",
    "sum = (x+y+z)\n",
    "if (x==y==z):\n",
    "    print(sum*3)\n",
    "else:\n",
    "        print(sum)\n",
    "    \n",
    "    \n",
    "    "
   ]
  },
  {
   "cell_type": "code",
   "execution_count": null,
   "metadata": {},
   "outputs": [],
   "source": [
    "13   # Write a Python program to concatenate all elements in a list into a string and return it."
   ]
  },
  {
   "cell_type": "code",
   "execution_count": 9,
   "metadata": {},
   "outputs": [
    {
     "name": "stdout",
     "output_type": "stream",
     "text": [
      "234jsusv"
     ]
    }
   ],
   "source": [
    "def con_list(list):\n",
    "    for item in list:\n",
    "        print(str(item),end = '')\n",
    "    \n",
    "con_list([2,3,4j,'su','sv'])"
   ]
  },
  {
   "cell_type": "code",
   "execution_count": null,
   "metadata": {},
   "outputs": [],
   "source": [
    "17    #Ask the user for a string and print out whether this string is a palindrome or not. (A palindrome is a string that reads the same forwards and backwards.)"
   ]
  },
  {
   "cell_type": "code",
   "execution_count": 45,
   "metadata": {},
   "outputs": [
    {
     "name": "stdout",
     "output_type": "stream",
     "text": [
      "enter the string mom\n",
      "given string is polindrom \n"
     ]
    }
   ],
   "source": [
    "strg = input('enter the string ')\n",
    "strg = my_str.casefold()\n",
    "rev_str = reversed(string)\n",
    "if list(string)==list(rev_str):\n",
    "    print('given string is polindrom ')\n",
    "else:\n",
    "    print('given string is not polindrom')"
   ]
  },
  {
   "cell_type": "code",
   "execution_count": null,
   "metadata": {},
   "outputs": [],
   "source": [
    "30  #Write a Python program to count the number of times each character occurs (character frequency) in a string\n",
    "    # Sample String : google.com'\n",
    "    # Expected Result : {'o': 3, 'g': 2, '.': 1, 'e': 1, 'l': 1, 'm': 1, 'c': 1}\n"
   ]
  },
  {
   "cell_type": "code",
   "execution_count": 37,
   "metadata": {},
   "outputs": [
    {
     "name": "stdout",
     "output_type": "stream",
     "text": [
      "'g': 2\n",
      "'o': 3\n",
      "'l': 1\n",
      "'e': 1\n",
      "'.': 1\n",
      "'c': 1\n",
      "'m': 1\n"
     ]
    }
   ],
   "source": [
    "s = \"google.com\"\n",
    "print(\"'g':\",s.count(\"g\"))\n",
    "print(\"'o':\",s.count(\"o\"))\n",
    "print(\"'l':\",s.count(\"l\"))\n",
    "print(\"'e':\",s.count(\"e\"))\n",
    "print(\"'.':\",s.count(\".\"))\n",
    "print(\"'c':\",s.count(\"c\"))\n",
    "print(\"'m':\",s.count(\"m\"))"
   ]
  },
  {
   "cell_type": "code",
   "execution_count": null,
   "metadata": {},
   "outputs": [],
   "source": [
    "16  # Write a program that asks the user how many Fibonnaci numbers to generate and then generates them. \n",
    "    #Take this opportunity to think about how you can use functions. Make sure to ask the user to enter \n",
    "    #the number of numbers in the sequence to generate.(Hint: The Fibonnaci seqence is a sequence of numbers \n",
    "    #where the next number in the sequence is the sum of the previous two numbers in the sequence. \n",
    "    #The sequence looks like this: 1, 1, 2, 3, 5, 8, 13, ů)"
   ]
  },
  {
   "cell_type": "code",
   "execution_count": null,
   "metadata": {},
   "outputs": [],
   "source": [
    "# 18.\n",
    "# Implement a function that takes as input three variables, and returns the largest of the three. \n",
    "#Do this without using the Python max() function!"
   ]
  },
  {
   "cell_type": "code",
   "execution_count": 4,
   "metadata": {},
   "outputs": [
    {
     "name": "stdout",
     "output_type": "stream",
     "text": [
      "the large value: 0\n"
     ]
    }
   ],
   "source": [
    "a,b,c = 0,0.5,-1\n",
    "if (a>b,c):\n",
    "    print(\"the large value:\",a)\n",
    "elif (b>a,c):\n",
    "    prit(\"the large value:\",b)\n",
    "else:\n",
    "    print(\"the large value:\",c)"
   ]
  },
  {
   "cell_type": "code",
   "execution_count": null,
   "metadata": {},
   "outputs": [],
   "source": [
    "# 25. Write a Python program to calculate the sum of the digits in an integer\n",
    "# Example: Input = 5245 => 5 + 2 + 4 + 5 = 16"
   ]
  },
  {
   "cell_type": "code",
   "execution_count": 4,
   "metadata": {},
   "outputs": [
    {
     "name": "stdout",
     "output_type": "stream",
     "text": [
      "the sum of given numbers: 16\n"
     ]
    }
   ],
   "source": [
    "num =str(5425)\n",
    "cou = (int(str(num)[0])+int(str(num)[1])+int(str(num)[2])+int(str(num)[3]))\n",
    "print(\"the sum of given numbers:\",cou)\n",
    "       \n",
    "     "
   ]
  },
  {
   "cell_type": "code",
   "execution_count": null,
   "metadata": {},
   "outputs": [],
   "source": [
    "# 14. Create a program that asks the user for a number and then prints out a list of all the divisors of that number.\n",
    "# num = int(input(\"Please choose a number to divide: \"))"
   ]
  },
  {
   "cell_type": "code",
   "execution_count": 41,
   "metadata": {},
   "outputs": [
    {
     "name": "stdout",
     "output_type": "stream",
     "text": [
      "Please choose a number to divide: 12\n"
     ]
    },
    {
     "ename": "NameError",
     "evalue": "name 'n' is not defined",
     "output_type": "error",
     "traceback": [
      "\u001b[0;31m---------------------------------------------------------------------------\u001b[0m",
      "\u001b[0;31mNameError\u001b[0m                                 Traceback (most recent call last)",
      "\u001b[0;32m<ipython-input-41-edf7b58c052b>\u001b[0m in \u001b[0;36m<module>\u001b[0;34m()\u001b[0m\n\u001b[1;32m      1\u001b[0m \u001b[0mnum\u001b[0m \u001b[0;34m=\u001b[0m \u001b[0mint\u001b[0m\u001b[0;34m(\u001b[0m\u001b[0minput\u001b[0m\u001b[0;34m(\u001b[0m\u001b[0;34m\"Please choose a number to divide: \"\u001b[0m\u001b[0;34m)\u001b[0m\u001b[0;34m)\u001b[0m\u001b[0;34m\u001b[0m\u001b[0m\n\u001b[0;32m----> 2\u001b[0;31m \u001b[0;32mfor\u001b[0m \u001b[0mx\u001b[0m \u001b[0;32min\u001b[0m \u001b[0mrange\u001b[0m \u001b[0;34m(\u001b[0m\u001b[0mn\u001b[0m\u001b[0;34m)\u001b[0m\u001b[0;34m:\u001b[0m\u001b[0;34m\u001b[0m\u001b[0m\n\u001b[0m\u001b[1;32m      3\u001b[0m     \u001b[0;32mif\u001b[0m \u001b[0mx\u001b[0m\u001b[0;34m%\u001b[0m\u001b[0mnum\u001b[0m\u001b[0;34m==\u001b[0m\u001b[0;36m0\u001b[0m\u001b[0;34m:\u001b[0m\u001b[0;34m\u001b[0m\u001b[0m\n\u001b[1;32m      4\u001b[0m         \u001b[0mprint\u001b[0m\u001b[0;34m(\u001b[0m\u001b[0mx\u001b[0m\u001b[0;34m)\u001b[0m\u001b[0;34m\u001b[0m\u001b[0m\n\u001b[1;32m      5\u001b[0m     \u001b[0;32melse\u001b[0m\u001b[0;34m:\u001b[0m\u001b[0;34m\u001b[0m\u001b[0m\n",
      "\u001b[0;31mNameError\u001b[0m: name 'n' is not defined"
     ]
    }
   ],
   "source": [
    "num = int(input(\"Please choose a number to divide: \"))\n",
    "for x in range (n):\n",
    "    if x%num==0:\n",
    "        print(x)\n",
    "    else:\n",
    "            pass"
   ]
  },
  {
   "cell_type": "code",
   "execution_count": null,
   "metadata": {},
   "outputs": [],
   "source": [
    "# 19. Generate a random number between 1 and 9 (including 1 and 9). Ask the user to guess the number, \n",
    "# then tell them whether they guessed too low, too high, or exactly right. \n",
    "# (Hint: remember to use the user input lessons from the very first exercise)\n",
    "# import random"
   ]
  },
  {
   "cell_type": "code",
   "execution_count": 2,
   "metadata": {},
   "outputs": [
    {
     "name": "stdout",
     "output_type": "stream",
     "text": [
      "please enter the number:5\n",
      "random num: 10\n",
      "guess low num\n"
     ]
    }
   ],
   "source": [
    "import random\n",
    "num = int(input(\"please enter the number:\"))\n",
    "a = random.randint(1,10)\n",
    "print(\"random num:\",a)\n",
    "if num<a:\n",
    "    print(\"guess low num\")\n",
    "elif num<=3:\n",
    "    pirnt(\"guess too low num\")\n",
    "elif num==a:\n",
    "    print(\"guessed correct number\")\n",
    "elif num>=7:\n",
    "    print(\"guessed too high number\")\n",
    "else:\n",
    "    print(\"guessed high number\")\n"
   ]
  },
  {
   "cell_type": "code",
   "execution_count": null,
   "metadata": {},
   "outputs": [],
   "source": [
    "# 23. Write a Python program to compute the future value of a specified principal amount, \n",
    "# rate of interest, and a number of years."
   ]
  },
  {
   "cell_type": "code",
   "execution_count": 1,
   "metadata": {},
   "outputs": [
    {
     "name": "stdout",
     "output_type": "stream",
     "text": [
      "enter the principle amount:1000\n",
      "enter how many years:2\n",
      "entet the intarest:4\n",
      "the value of future: 80.0\n"
     ]
    }
   ],
   "source": [
    "p = int(input(\"enter the principle amount:\"))\n",
    "t = int(input(\"enter how many years:\"))\n",
    "r = int(input(\"entet the intarest:\"))\n",
    "\n",
    "value =(p*t*r)/100\n",
    "print(\"the value of future:\",value)"
   ]
  },
  {
   "cell_type": "code",
   "execution_count": null,
   "metadata": {},
   "outputs": [],
   "source": [
    "# 24. Write a Python program to convert the distance (in feet) to inches, yards, and miles."
   ]
  },
  {
   "cell_type": "code",
   "execution_count": null,
   "metadata": {},
   "outputs": [],
   "source": [
    "1ft = 30.48cm\n",
    "1ft = 12.00 inc\n",
    "1ft = 0.333333yd\n",
    "1ft = 0.000189 mi\n"
   ]
  }
 ],
 "metadata": {
  "kernelspec": {
   "display_name": "Python 3",
   "language": "python",
   "name": "python3"
  },
  "language_info": {
   "codemirror_mode": {
    "name": "ipython",
    "version": 3
   },
   "file_extension": ".py",
   "mimetype": "text/x-python",
   "name": "python",
   "nbconvert_exporter": "python",
   "pygments_lexer": "ipython3",
   "version": "3.7.0"
  }
 },
 "nbformat": 4,
 "nbformat_minor": 2
}
